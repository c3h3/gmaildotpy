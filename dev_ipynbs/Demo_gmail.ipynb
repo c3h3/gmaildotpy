{
 "metadata": {
  "name": "",
  "signature": "sha256:84d2820b0910ede78f023b9b65147d95aafcb0c02b4d374b4dabc83e076c1332"
 },
 "nbformat": 3,
 "nbformat_minor": 0,
 "worksheets": [
  {
   "cells": [
    {
     "cell_type": "code",
     "collapsed": false,
     "input": [
      "from gmail.gmail import Gmail\n",
      "import datetime"
     ],
     "language": "python",
     "metadata": {},
     "outputs": [],
     "prompt_number": 6
    },
    {
     "cell_type": "code",
     "collapsed": false,
     "input": [
      "sub = \"[Gmail Notifier TEST %s] Sending mail TESTING\" % str(datetime.datetime.now())\n",
      "sub"
     ],
     "language": "python",
     "metadata": {},
     "outputs": [
      {
       "metadata": {},
       "output_type": "pyout",
       "prompt_number": 7,
       "text": [
        "'[Gmail Notifier TEST 2014-10-08 13:01:01.708527] Sending mail TESTING'"
       ]
      }
     ],
     "prompt_number": 7
    },
    {
     "cell_type": "code",
     "collapsed": false,
     "input": [
      "html = \"\"\"\n",
      "<table style=\"width:100%\" border=1>\n",
      "  <tr>\n",
      "    <td>Jill</td>\n",
      "    <td>Smith</td> \n",
      "    <td>50</td>\n",
      "  </tr>\n",
      "  <tr>\n",
      "    <td>Eve</td>\n",
      "    <td>Jackson</td> \n",
      "    <td>94</td>\n",
      "  </tr>\n",
      "</table>\n",
      "\"\"\""
     ],
     "language": "python",
     "metadata": {},
     "outputs": [],
     "prompt_number": 8
    },
    {
     "cell_type": "code",
     "collapsed": false,
     "input": [
      "\n",
      "gmail = Gmail()\n",
      "gmail.create_new_message(subject=sub)\n",
      "gmail.add_html_into_message(html=html)\n",
      "gmail.attach_files_into_message([\"Demo_gmail.ipynb\",\"Dev20141007_init_project.ipynb\"])\n",
      "gmail.send_message(mail_to_list=[\"c3h3.tw@gmail.com\",\"info@wudukers.com\"])\n",
      "gmail.disconnected()"
     ],
     "language": "python",
     "metadata": {},
     "outputs": [],
     "prompt_number": 9
    },
    {
     "cell_type": "code",
     "collapsed": false,
     "input": [],
     "language": "python",
     "metadata": {},
     "outputs": [],
     "prompt_number": 9
    },
    {
     "cell_type": "code",
     "collapsed": false,
     "input": [],
     "language": "python",
     "metadata": {},
     "outputs": [],
     "prompt_number": 6
    },
    {
     "cell_type": "code",
     "collapsed": false,
     "input": [],
     "language": "python",
     "metadata": {},
     "outputs": [],
     "prompt_number": 8
    },
    {
     "cell_type": "code",
     "collapsed": false,
     "input": [],
     "language": "python",
     "metadata": {},
     "outputs": []
    },
    {
     "cell_type": "code",
     "collapsed": false,
     "input": [],
     "language": "python",
     "metadata": {},
     "outputs": []
    },
    {
     "cell_type": "code",
     "collapsed": false,
     "input": [],
     "language": "python",
     "metadata": {},
     "outputs": []
    }
   ],
   "metadata": {}
  }
 ]
}