{
 "metadata": {
  "name": "",
  "signature": "sha256:55d66feca5e2840a5b38250519f775cfaff3fe00980adba7384684243bc3cf70"
 },
 "nbformat": 3,
 "nbformat_minor": 0,
 "worksheets": [
  {
   "cells": [
    {
     "cell_type": "code",
     "collapsed": false,
     "input": [
      "from settings import GMAIL_ACCOUNT, GMAIL_PASSWORD"
     ],
     "language": "python",
     "metadata": {},
     "outputs": [],
     "prompt_number": 3
    },
    {
     "cell_type": "code",
     "collapsed": false,
     "input": [
      "import smtplib\n",
      "from email.MIMEMultipart import MIMEMultipart\n",
      "from email.MIMEBase import MIMEBase\n",
      "from email.MIMEText import MIMEText\n",
      "from email import Encoders\n",
      "import os\n",
      "\n",
      "\n",
      "class Gmail(object):\n",
      "    def __init__(self,gmail_id = GMAIL_ACCOUNT, gmail_pwd = GMAIL_PASSWORD):\n",
      "                \n",
      "        self.gmail_id = gmail_id\n",
      "        self.gmail_pwd = gmail_pwd\n",
      "        \n",
      "        self.gmail_server = smtplib.SMTP(\"smtp.gmail.com\", 587)\n",
      "        self.gmail_server.ehlo()\n",
      "        self.gmail_server.starttls()\n",
      "        self.gmail_server.ehlo()\n",
      "        self.gmail_server.login(self.gmail_id, self.gmail_pwd)\n",
      "    \n",
      "    \n",
      "    def disconnected(self):\n",
      "        self.gmail_server.close()\n",
      "        \n",
      "        \n",
      "    def create_new_message(self, type = 'alternative', subject = \"[Gmail Notifier TEST] Sending mail TESTING\"):\n",
      "        if type == None:\n",
      "            self.msg = MIMEMultipart()\n",
      "        else:\n",
      "            self.msg = MIMEMultipart(type)\n",
      "        \n",
      "        self.msg[\"From\"] = self.gmail_id\n",
      "        self.msg[\"Subject\"] = subject\n",
      "        \n",
      "        \n",
      "    def add_text_into_message(self, text = \"Sending mail TESTING\"):\n",
      "        self.msg.attach(MIMEText(text,'plain'))\n",
      "        \n",
      "\n",
      "    def add_html_into_message(self, html = \"<h1>Sending mail TESTING</h1>\"):\n",
      "        self.msg.attach(MIMEText(html,'html'))\n",
      "        \n",
      "        \n",
      "    def attach_files_into_message(self, files_path_list = []):\n",
      "        for attach in files_path_list:\n",
      "            part = MIMEBase('application', 'octet-stream')\n",
      "            part.set_payload(open(attach, 'rb').read())\n",
      "            Encoders.encode_base64(part)\n",
      "            part.add_header('Content-Disposition',\n",
      "                            'attachment; filename=\"%s\"' % os.path.basename(attach))\n",
      "            self.msg.attach(part)\n",
      "             \n",
      "                \n",
      "    def send_message(self, mail_to_list = [\"c3h3.tw@gmail.com\"]):\n",
      "        for to in mail_to_list:\n",
      "            self.msg[\"To\"] = to \n",
      "            self.gmail_server.sendmail(self.gmail_id, to, self.msg.as_string())\n",
      "            \n"
     ],
     "language": "python",
     "metadata": {},
     "outputs": [],
     "prompt_number": 16
    },
    {
     "cell_type": "code",
     "collapsed": false,
     "input": [
      "gmail = Gmail()"
     ],
     "language": "python",
     "metadata": {},
     "outputs": [],
     "prompt_number": 17
    },
    {
     "cell_type": "code",
     "collapsed": false,
     "input": [
      "gmail.create_new_message()"
     ],
     "language": "python",
     "metadata": {},
     "outputs": [],
     "prompt_number": 18
    },
    {
     "cell_type": "code",
     "collapsed": false,
     "input": [
      "gmail.msg.keys()"
     ],
     "language": "python",
     "metadata": {},
     "outputs": [
      {
       "metadata": {},
       "output_type": "pyout",
       "prompt_number": 19,
       "text": [
        "['Content-Type', 'MIME-Version', 'From', 'Subject']"
       ]
      }
     ],
     "prompt_number": 19
    },
    {
     "cell_type": "code",
     "collapsed": false,
     "input": [
      "gmail.msg[\"Subject\"]"
     ],
     "language": "python",
     "metadata": {},
     "outputs": [
      {
       "metadata": {},
       "output_type": "pyout",
       "prompt_number": 20,
       "text": [
        "'[Gmail Notifier TEST] Sending mail TESTING'"
       ]
      }
     ],
     "prompt_number": 20
    },
    {
     "cell_type": "code",
     "collapsed": false,
     "input": [
      "gmail.add_text_into_message()"
     ],
     "language": "python",
     "metadata": {},
     "outputs": [],
     "prompt_number": 21
    },
    {
     "cell_type": "code",
     "collapsed": false,
     "input": [
      "gmail.msg.keys()"
     ],
     "language": "python",
     "metadata": {},
     "outputs": [
      {
       "metadata": {},
       "output_type": "pyout",
       "prompt_number": 22,
       "text": [
        "['Content-Type', 'MIME-Version', 'From', 'Subject']"
       ]
      }
     ],
     "prompt_number": 22
    },
    {
     "cell_type": "code",
     "collapsed": false,
     "input": [
      "gmail.send_message()"
     ],
     "language": "python",
     "metadata": {},
     "outputs": [],
     "prompt_number": 23
    },
    {
     "cell_type": "code",
     "collapsed": false,
     "input": [],
     "language": "python",
     "metadata": {},
     "outputs": []
    }
   ],
   "metadata": {}
  }
 ]
}